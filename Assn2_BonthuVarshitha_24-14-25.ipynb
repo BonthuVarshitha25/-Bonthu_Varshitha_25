{
 "cells": [
  {
   "cell_type": "code",
   "execution_count": 5,
   "id": "240b663c-1067-4d19-9b20-9da749c04a9c",
   "metadata": {},
   "outputs": [
    {
     "name": "stdout",
     "output_type": "stream",
     "text": [
      "var1: [ 0  1  2  3  4  5  6  7  8  9 10 11 12 13 14 15 16 17 18 19 20 21 22 23\n",
      " 24 25 26 27 28 29 30]\n",
      "Shape of var1: (31,)\n"
     ]
    }
   ],
   "source": [
    "# 1.a) Create a variable named var1 that stores an array of numbers from 0 to 30,inclusive. Print var1 and its shape. Hint : arange\n",
    "import numpy as np\n",
    "\n",
    "# Creating var1 as an array of numbers from 0 to 30 inclusive\n",
    "var1 = np.arange(31)\n",
    "print(\"var1:\", var1)\n",
    "print(\"Shape of var1:\", var1.shape)\n"
   ]
  },
  {
   "cell_type": "code",
   "execution_count": 6,
   "id": "4293c71c-55bd-4437-98c5-6ea80e700ae7",
   "metadata": {},
   "outputs": [
    {
     "name": "stdout",
     "output_type": "stream",
     "text": [
      "var2:\n",
      " [[ 0  1  2  3  4  5  6  7  8  9 10 11 12 13 14 15 16 17 18 19 20 21 22 23\n",
      "  24 25 26 27 28 29 30]]\n",
      "Shape of var2: (1, 31)\n"
     ]
    }
   ],
   "source": [
    "# b) Change var2 to a validly-shaped two-dimensional matrix and store it in a new variable called var2. Print var2 and its shape. Hint: Use the reshape function\n",
    "# Reshape var1 into a 2D matrix and store it in var2\n",
    "var2 = var1.reshape(1, 31)  \n",
    "print(\"var2:\\n\", var2)\n",
    "print(\"Shape of var2:\", var2.shape)\n"
   ]
  },
  {
   "cell_type": "code",
   "execution_count": 7,
   "id": "6f7cc650-3499-49ac-8123-0fa93da948b8",
   "metadata": {},
   "outputs": [
    {
     "name": "stdout",
     "output_type": "stream",
     "text": [
      "var3:\n",
      " [[[ 0  1  2  3  4  5  6  7  8  9 10 11 12 13 14 15 16 17 18 19 20 21 22\n",
      "   23 24 25 26 27 28 29 30]]]\n",
      "Shape of var3: (1, 1, 31)\n"
     ]
    }
   ],
   "source": [
    "# Create a third variable, var3 that reshapes it into a valid three-dimensional shape.Print var3 and its shape.\n",
    "# Reshape var2 into a 3D shape for var3\n",
    "var3 = var1.reshape(1, 1, 31) \n",
    "print(\"var3:\\n\", var3)\n",
    "print(\"Shape of var3:\", var3.shape)\n"
   ]
  },
  {
   "cell_type": "code",
   "execution_count": 8,
   "id": "0a8f8e1e-8719-40f5-a24a-38754f620f1e",
   "metadata": {},
   "outputs": [
    {
     "name": "stdout",
     "output_type": "stream",
     "text": [
      "Original var2:\n",
      " [[ 0  1  2  3  4  5]\n",
      " [ 6  7  8  9 10 11]\n",
      " [12 13 14 15 16 17]\n",
      " [18 19 20 21 22 23]\n",
      " [24 25 26 27 28 29]]\n",
      "\n",
      "Modified var2:\n",
      " [[ 0  1  2  3  4  5]\n",
      " [-1  7  8  9 10 11]\n",
      " [12 13 14 15 16 17]\n",
      " [18 19 20 21 22 23]\n",
      " [24 25 26 27 28 29]]\n",
      "\n",
      "Updated var1: [ 0  1  2  3  4  5 -1  7  8  9 10 11 12 13 14 15 16 17 18 19 20 21 22 23\n",
      " 24 25 26 27 28 29 30]\n",
      "\n",
      "Updated var3:\n",
      " [[[ 0  1  2  3  4  5 -1  7  8  9 10 11 12 13 14 15 16 17 18 19 20 21 22\n",
      "   23 24 25 26 27 28 29 30]]]\n"
     ]
    }
   ],
   "source": [
    "# d) Use two-dimensional array indexing to set the first value in the second row of var2 to -1. Now look at var1 and var3. Did they change? Explain what’sgoing on. (Hint: does reshape return a view or a copy?)\n",
    "# Reshape var1 into a shape with at least two rows for var2\n",
    "var2 = var1[:30].reshape(5, 6) \n",
    "print(\"Original var2:\\n\", var2)\n",
    "\n",
    "# Set the first value in the second row of var2 to -1\n",
    "var2[1, 0] = -1\n",
    "print(\"\\nModified var2:\\n\", var2)\n",
    "\n",
    "# Check if var1 and var3 are affected\n",
    "print(\"\\nUpdated var1:\", var1)\n",
    "print(\"\\nUpdated var3:\\n\", var3)\n"
   ]
  },
  {
   "cell_type": "code",
   "execution_count": 9,
   "id": "79aac6f8-1ff5-470d-9db0-bee6352cbd59",
   "metadata": {},
   "outputs": [
    {
     "name": "stdout",
     "output_type": "stream",
     "text": [
      "Sum of var3 over its second dimension:\n",
      " [[ 0  1  2  3  4  5 -1  7  8  9 10 11 12 13 14 15 16 17 18 19 20 21 22 23\n",
      "  24 25 26 27 28 29 30]]\n",
      "\n",
      "Sum of var3 over its third dimension:\n",
      " [[458]]\n",
      "\n",
      "Sum of var3 over both its first and third dimensions:\n",
      " [458]\n"
     ]
    }
   ],
   "source": [
    "# e) Another thing that comes up a lot with array shapes is thinking about how to aggregate over specific dimensions. Figure out how the NumPy sum function works (and the axis argument in particular) and do the following:\n",
    "#(i) Sum var3 over its second dimension and print the result.\n",
    "#ii) Sum var3 over its third dimension and print the result.\n",
    "#(iii) Sum var3 over both its first and third dimensions and print the result.\n",
    "import numpy as np\n",
    "# (i) Sum var3 over its second dimension (axis=1)\n",
    "sum_var3_axis_1 = np.sum(var3, axis=1)\n",
    "print(\"Sum of var3 over its second dimension:\\n\", sum_var3_axis_1)\n",
    "\n",
    "# (ii) Sum var3 over its third dimension (axis=2)\n",
    "sum_var3_axis_2 = np.sum(var3, axis=2)\n",
    "print(\"\\nSum of var3 over its third dimension:\\n\", sum_var3_axis_2)\n",
    "\n",
    "# (iii) Sum var3 over both its first and third dimensions (axes=0 and 2)\n",
    "sum_var3_axis_0_2 = np.sum(var3, axis=(0, 2))\n",
    "print(\"\\nSum of var3 over both its first and third dimensions:\\n\", sum_var3_axis_0_2)\n",
    "\n"
   ]
  },
  {
   "cell_type": "code",
   "execution_count": 13,
   "id": "c0c2544c-e3d1-4640-8608-02562cce11a4",
   "metadata": {},
   "outputs": [
    {
     "name": "stdout",
     "output_type": "stream",
     "text": [
      "Second row of var2:\n",
      " [-1  7  8  9 10 11]\n",
      "\n",
      "Last column of var2:\n",
      " [ 5 11 17 23 29]\n",
      "\n",
      "Top-right 2x2 submatrix of var2:\n",
      " [[ 4  5]\n",
      " [10 11]]\n"
     ]
    }
   ],
   "source": [
    "# f) Write code to do the following:\n",
    "#(i) Slice out the second row of var2 and print it.\n",
    "#(ii) Slice out the last column of var2 using the -1 notation and print it.\n",
    "#(iii) Slice out the top right 2 × 2 submatrix of var2 and print it.\n",
    "# Assuming var2 is reshaped as a 2D array with multiple rows and columns, such as\n",
    "# var2 = var1[:30].reshape(5, 6)  # 5 rows and 6 columns for example\n",
    "\n",
    "# (i) Slice out the second row of var2 and print it\n",
    "second_row_var2 = var2[1, :]\n",
    "print(\"Second row of var2:\\n\", second_row_var2)\n",
    "\n",
    "# (ii) Slice out the last column of var2 using the -1 notation and print it\n",
    "last_column_var2 = var2[:, -1]\n",
    "print(\"\\nLast column of var2:\\n\", last_column_var2)\n",
    "\n",
    "# (iii) Slice out the top-right 2x2 submatrix of var2 and print it\n",
    "top_right_2x2_var2 = var2[:2, -2:]\n",
    "print(\"\\nTop-right 2x2 submatrix of var2:\\n\", top_right_2x2_var2)\n"
   ]
  },
  {
   "cell_type": "code",
   "execution_count": 14,
   "id": "853af111-f8d4-4283-85b8-dd086edbe5a4",
   "metadata": {},
   "outputs": [
    {
     "name": "stdout",
     "output_type": "stream",
     "text": [
      "Vector: [ 1  2  3  4  5  6  7  8  9 10]\n"
     ]
    }
   ],
   "source": [
    "# 2.a) The most basic kind of broadcast is with a scalar, in which you can perform a binary operation (e.g., add, multiply, ...) on an array and a scalar, the effect is to perform that operation with the scalar for every element of the array. To try this out, create a vecto1, 2, . . . , 10 by adding 1 to the result of the arange function.\n",
    "import numpy as np\n",
    "\n",
    "# Create a vector from 1 to 10 by adding 1 to np.arange(10)\n",
    "vector = np.arange(10) + 1\n",
    "print(\"Vector:\", vector)\n"
   ]
  },
  {
   "cell_type": "code",
   "execution_count": 15,
   "id": "0435ba8e-6bb4-4ebf-b586-b7f0d91cb1b5",
   "metadata": {},
   "outputs": [
    {
     "name": "stdout",
     "output_type": "stream",
     "text": [
      "Matrix A:\n",
      " [[ 0  1  2  3  4  5  6  7  8  9]\n",
      " [ 1  2  3  4  5  6  7  8  9 10]\n",
      " [ 2  3  4  5  6  7  8  9 10 11]\n",
      " [ 3  4  5  6  7  8  9 10 11 12]\n",
      " [ 4  5  6  7  8  9 10 11 12 13]\n",
      " [ 5  6  7  8  9 10 11 12 13 14]\n",
      " [ 6  7  8  9 10 11 12 13 14 15]\n",
      " [ 7  8  9 10 11 12 13 14 15 16]\n",
      " [ 8  9 10 11 12 13 14 15 16 17]\n",
      " [ 9 10 11 12 13 14 15 16 17 18]]\n"
     ]
    }
   ],
   "source": [
    "# b) Now, create a 10 × 10 matrix A in which Ai j = i + j. You’ll be able to do this using the vector you just created, and adding it to a reshaped version of itself.\n",
    "import numpy as np\n",
    "\n",
    "# Create a vector from 0 to 9 (to represent row and column indices)\n",
    "vector = np.arange(10)\n",
    "\n",
    "# Create the 10x10 matrix A by adding the vector to a reshaped version of itself\n",
    "A = vector.reshape(10, 1) + vector\n",
    "print(\"Matrix A:\\n\", A)\n"
   ]
  },
  {
   "cell_type": "code",
   "execution_count": 16,
   "id": "1daa5ff9-cbab-4769-9fe7-037025f66d62",
   "metadata": {},
   "outputs": [
    {
     "name": "stdout",
     "output_type": "stream",
     "text": [
      "Data:\n",
      " [[ 1.7575948   1.21262152  5.18733718  1.04322924  1.65253964]\n",
      " [ 7.58730456  1.16049353  2.32099667  0.32249622  0.44182592]\n",
      " [ 0.39330305  2.37081717  1.4875228   5.13151131  0.85949488]\n",
      " [ 5.37519096  2.02101472  0.54164651  0.22907548  1.01527004]\n",
      " [ 0.49728083  1.83017711  1.89323377  2.43386294  0.25423171]\n",
      " [ 0.05115681  0.87922028  0.77574092 17.91702849  0.0298899 ]\n",
      " [ 2.21543465  0.44522924  0.46829672  2.857492    0.0635069 ]\n",
      " [ 2.37807656  0.72405527  2.01520804  0.17710481  5.58666658]\n",
      " [ 0.70743707  5.40737073  0.57885385  0.23010584  0.3484044 ]\n",
      " [ 0.66887958  0.89047061  0.54701644  0.57042603  1.07062342]\n",
      " [ 0.23617307  0.4016663   3.38826224  0.40466943  2.41333979]\n",
      " [ 0.74183737  0.79224436  0.99526576  1.81229042  0.21336006]\n",
      " [ 2.36128782  0.65212371  0.3454856   1.74923406 15.68931682]\n",
      " [ 1.08353569  0.93791083  1.35533929  1.22781704  2.42166778]\n",
      " [ 2.3178838   2.73896794  0.82815568  1.09948248  7.27222313]\n",
      " [ 0.22650191  2.62237494  1.7317306   1.92143963  0.67362592]\n",
      " [ 2.05434867  0.89448618  0.25813385  1.20259295  1.38294138]\n",
      " [ 0.49971871  0.35167938  1.61691124  1.22585224  2.75355704]\n",
      " [ 0.91066451  0.80463046  0.94930218  3.70846037  2.87400067]\n",
      " [ 2.04295737  1.18848691  7.90190165  0.61449706  2.21487958]\n",
      " [ 0.34660344  2.42017912  2.47905797  1.67152597  1.92383498]\n",
      " [ 1.75851198  1.11414208  0.41505208  0.77806977  0.10829233]\n",
      " [ 0.56395253  2.29381195  1.68099471  0.21855762  0.1314748 ]\n",
      " [ 3.83029764  1.36439276  0.23161228  2.01061114  0.153731  ]\n",
      " [ 0.25366365  0.46107676  0.38397082  5.47471335  1.21500116]\n",
      " [ 2.41547107  1.11769963  0.56063432  0.51675574  1.26184354]\n",
      " [ 1.68482147  1.63220328  1.20491333  2.42793861  0.75637625]\n",
      " [ 1.13496622  2.69362957  0.65928338  0.86650091  2.85303018]\n",
      " [ 1.43389538  0.85299873  1.04396452  0.61205238  0.12303031]\n",
      " [ 1.60991384  0.39610626  2.26953436  0.27874252  6.37839442]\n",
      " [ 0.89032181  0.0639765   4.93486062  1.11723174  0.20602644]\n",
      " [ 6.33304185  1.36448337  1.19807145  1.09910494  1.09973814]\n",
      " [ 0.6957418   7.41078549  3.47903887  0.11268185  0.91022431]\n",
      " [ 0.359656    0.18026488  2.13178758  1.10754909  0.50949923]\n",
      " [ 1.40426293  0.60449824  0.61628759  0.52249456  1.27364513]\n",
      " [ 1.5578033   1.36774543  0.75608558  2.75714773  0.96443629]\n",
      " [ 0.62832942  0.48647976  0.97159077  1.46716841  0.11433493]\n",
      " [ 3.58622309  0.15729875  2.04474219  1.32820692  1.50354169]\n",
      " [ 0.59378928  0.39078146  8.01933284  0.62272181  1.05631099]\n",
      " [ 0.95997138  0.55016234  5.75133096  0.93663461  2.56601577]\n",
      " [ 0.45139086  1.32940699  3.07815378  0.68844392  0.4222243 ]\n",
      " [ 0.45396698  0.45468398  2.82815041  2.18955768  0.85533885]\n",
      " [ 1.37026028  0.44036148  1.60476425  6.50648287  2.27827276]\n",
      " [ 1.01131978  0.55605271  0.54510518  1.18316553  1.37686552]\n",
      " [ 1.47432424  0.55754418  0.12441531  2.37000944  0.92400121]\n",
      " [ 0.10991879  2.95388208  0.7051571   1.02242602  5.07157241]\n",
      " [ 2.44306823  0.61607101  0.39982275  0.98406549  1.75333514]\n",
      " [ 0.17384388  3.69702881  0.2362973   0.52273454  1.65585848]\n",
      " [ 1.42398679  5.20547212  3.21518531  2.60580221  1.28485606]\n",
      " [ 0.60675941  0.77142594  0.83554057  0.98737628  0.90005692]]\n",
      "Shape of data: (50, 5)\n"
     ]
    }
   ],
   "source": [
    "# c) A very common use of broadcasting is to standardize data, i.e., to make it have zero mean and unit variance. First, create a fake “data set” with 50 examples, each with five dimensions. \n",
    "#import numpy.random as npr\n",
    "#data = np.exp(npr.randn ( 50 , 5 ) )\n",
    "import numpy as np\n",
    "import numpy.random as npr\n",
    "data = np.exp(npr.randn(50, 5))\n",
    "print(\"Data:\\n\", data)\n",
    "print(\"Shape of data:\", data.shape)\n"
   ]
  },
  {
   "cell_type": "code",
   "execution_count": 17,
   "id": "42aed3fb-bf15-4fbf-9770-97ae10de140a",
   "metadata": {},
   "outputs": [
    {
     "name": "stdout",
     "output_type": "stream",
     "text": [
      "Data:\n",
      " [[ 1.99728764  1.29207965  1.32587251  1.4635516   0.56306778]\n",
      " [ 1.24347298  1.46966105  1.71266711  0.31390776  0.57694726]\n",
      " [ 3.00307227  0.42213777  0.9450234   2.49202732  1.3243223 ]\n",
      " [ 0.85761089  0.21583518  3.37154405  1.90436589  3.36540426]\n",
      " [ 2.246045    2.00019762  1.06718097  1.15532017  0.47229397]\n",
      " [ 1.36543367  6.31349589  1.50181922  1.62325083  0.85769416]\n",
      " [ 0.30323509  1.64183692 16.50687195  0.51217961  0.40167084]\n",
      " [ 2.70582739  0.69805782  1.51581583  1.26440495  1.23496053]\n",
      " [ 0.78862991  0.83987877  1.11054494  0.10502431  0.94253291]\n",
      " [ 2.48052856 10.01545334  2.55102892  2.28467313  3.49525425]\n",
      " [ 2.74478075  3.80672983  0.3365617   1.37899735  2.47617397]\n",
      " [ 1.16794107  1.32455772  0.55130649  0.83700388  1.49508825]\n",
      " [ 1.59094692  0.71239914  1.32435579  0.60604025  0.76923623]\n",
      " [ 1.33828131  3.69752511  0.46191203  0.43467688  0.77735828]\n",
      " [ 1.54517951  0.31480907  0.21559954  1.95485711  0.91511206]\n",
      " [ 0.69666755  2.65129708  0.35683305  0.73542985  1.08043324]\n",
      " [ 2.04148468  0.65357221  0.36777358  0.35191326  2.19437887]\n",
      " [ 5.94021758  1.72846258  0.69100391  0.5583119   6.22198703]\n",
      " [ 0.43088367  0.88468286  2.67446845  4.08903417  0.77672487]\n",
      " [ 1.49598851  2.45609017  0.99489973  1.46291814  8.85443025]\n",
      " [ 1.51438995  2.57598999  0.74835706  0.51174074  2.93674065]\n",
      " [ 1.04741816  0.18649761  1.60027593  0.49202504  0.09657372]\n",
      " [ 0.33509253  2.66569741  0.94504496  0.34296646  0.37666777]\n",
      " [ 1.64159667  2.32520982  0.39862197  0.53686404  3.01576378]\n",
      " [ 3.75378444  1.57485719  1.15041221  2.13284013  1.86760646]\n",
      " [ 0.44391746  6.67975681  7.62160973  3.60351803  1.93676414]\n",
      " [ 0.27188262  0.40336267  0.39163934  1.08625446  5.67515349]\n",
      " [ 3.0570312   1.1090784   3.06483944  0.36662732  0.41534612]\n",
      " [ 2.8346669   0.34204812  2.1050455   0.45457313  3.82155876]\n",
      " [ 1.79576738  1.52727727  1.41962807  0.98252341  0.30963135]\n",
      " [ 1.46155796  0.90949391  0.34543105  4.21883371  1.58692531]\n",
      " [ 0.2228708   1.22458038  2.14531011  0.52415292  0.60578152]\n",
      " [ 0.28212651  1.99961212  1.54330801  1.79872722  2.36371648]\n",
      " [ 1.2608499   0.1198136   5.26568109  2.03496768  0.32337733]\n",
      " [ 0.77641321  1.9355043   0.21827124  0.7824283   0.45484329]\n",
      " [ 1.72114338  0.74512679  6.26437306  1.51867683  0.25117314]\n",
      " [ 0.29973837  2.25191026  0.85333698  1.08999965  0.59448259]\n",
      " [ 1.31279791  0.31515128  0.80996591  3.4795133   0.30765925]\n",
      " [ 0.8267791   1.63650952  4.83043384  0.22917191  1.85711259]\n",
      " [ 0.14735817  0.33416647  0.76165104  0.93902652  3.19577259]\n",
      " [ 0.50552804  4.47803056  1.3877793   2.46424454  4.3562879 ]\n",
      " [ 0.26242542  1.31529027  2.99692951  2.64204898  1.50523862]\n",
      " [ 1.07648458  1.4061112   0.53577685  0.09545268  0.21483248]\n",
      " [ 1.0946728   2.80180581  0.80340955  3.73939611  1.03803085]\n",
      " [ 0.77906723  0.88142751  1.47641499  0.15943022  0.59494777]\n",
      " [ 1.17660314  0.48055911  0.8102488   0.9393019   0.99052755]\n",
      " [ 0.59438071  1.02271219  0.42238517  1.9418628   0.57593346]\n",
      " [ 1.34838622  1.61274887  5.64618263  0.63805104  2.16221399]\n",
      " [ 0.11740793  1.24919102  0.56633233  1.19444555  0.89945177]\n",
      " [ 2.18236478  1.24731612  0.85337981  1.28955657  1.03620425]]\n",
      "Shape of data: (50, 5)\n"
     ]
    }
   ],
   "source": [
    "# You don’t worry too much about what this code is doing at this stage of the course, but for completeness: it imports the NumPy random number generation library, then generates a 50 × 5 matrix of standard normal random variates and exponentiates them. The effect of this is to have a pretend data set of 50 independent and identically-distributed vectors from a log-normal distribution.\n",
    "import numpy as np\n",
    "import numpy.random as npr\n",
    "\n",
    "# Generate a 50 × 5 matrix of standard normal random variates\n",
    "data = np.exp(npr.randn(50, 5))\n",
    "\n",
    "# Display the dataset and its shape\n",
    "print(\"Data:\\n\", data)\n",
    "print(\"Shape of data:\", data.shape)\n"
   ]
  },
  {
   "cell_type": "code",
   "execution_count": 18,
   "id": "732c2a59-a7af-4f60-8a49-eab4fc98183a",
   "metadata": {},
   "outputs": [
    {
     "name": "stdout",
     "output_type": "stream",
     "text": [
      "Mean of each column:\n",
      " [1.40256037 1.80991193 1.95130317 1.35514219 1.68322781]\n",
      "Standard deviation of each column:\n",
      " [1.08372726 1.81225722 2.64792693 1.06661802 1.71845979]\n"
     ]
    }
   ],
   "source": [
    "# e) Now, compute the mean and standard deviation of each column. This should result in two vectors of length 5. You’ll need to think a little bit about how to use the axis argument to mean and std. Store these vectors into variables and print both of them.\n",
    "# Calculate the mean of each column\n",
    "mean_values = np.mean(data, axis=0)\n",
    "\n",
    "# Calculate the standard deviation of each column\n",
    "std_values = np.std(data, axis=0)\n",
    "print(\"Mean of each column:\\n\", mean_values)\n",
    "print(\"Standard deviation of each column:\\n\", std_values)\n"
   ]
  },
  {
   "cell_type": "code",
   "execution_count": 19,
   "id": "bd87ce09-7f92-4295-9c2d-70ea4c58576a",
   "metadata": {},
   "outputs": [
    {
     "name": "stdout",
     "output_type": "stream",
     "text": [
      "Normalized Data:\n",
      " [[ 0.54877947 -0.28573884 -0.23619635  0.10163845 -0.65183953]\n",
      " [-0.14679652 -0.18774977 -0.09012184 -0.97620181 -0.64376284]\n",
      " [ 1.47685858 -0.76577107 -0.38002551  1.06587842 -0.20885301]\n",
      " [-0.50284744 -0.87960844  0.53635954  0.51492071  0.97888613]\n",
      " [ 0.77831818  0.10499927 -0.33389222 -0.18734169 -0.7046623 ]\n",
      " [-0.03425834  2.48506885 -0.16974938  0.25136331 -0.4803916 ]\n",
      " [-1.01439294 -0.09274346  5.49696769 -0.79031346 -0.74575906]\n",
      " [ 1.20257843 -0.61351893 -0.1644635  -0.08507004 -0.26085409]\n",
      " [-0.56649905 -0.53526241 -0.31751565 -1.17203897 -0.43102253]\n",
      " [ 0.99468587  4.52780175  0.22648878  0.871475    1.05444797]\n",
      " [ 1.23852231  1.10184022 -0.60981346  0.02236523  0.46142841]\n",
      " [-0.21649294 -0.2678175  -0.52871424 -0.48577682 -0.1094815 ]\n",
      " [ 0.17383207 -0.60560542 -0.23676914 -0.70231511 -0.53186672]\n",
      " [-0.05931295  1.04158127 -0.56247441 -0.86297559 -0.52714037]\n",
      " [ 0.13160058 -0.82499484 -0.65549529  0.56225839 -0.44697918]\n",
      " [-0.65135652  0.46427469 -0.6021579  -0.58100682 -0.35077607]\n",
      " [ 0.58956191 -0.638066   -0.59802617 -0.94057002  0.29744721]\n",
      " [ 4.18708414 -0.04494359 -0.47595696 -0.74706247  2.64117861]\n",
      " [-0.89660631 -0.51053959  0.27310621  2.56314063 -0.52750896]\n",
      " [ 0.08621002  0.35655989 -0.36118952  0.10104456  4.17304058]\n",
      " [ 0.10318979  0.42272038 -0.45429732 -0.79072492  0.72943973]\n",
      " [-0.32770441 -0.89579686 -0.13256681 -0.80920924 -0.92330009]\n",
      " [-0.98499676  0.47222076 -0.38001737 -0.94895803 -0.76030876]\n",
      " [ 0.22056869  0.28434037 -0.58637615 -0.76717076  0.77542459]\n",
      " [ 2.16957178 -0.12970274 -0.30245962  0.72912507  0.10729297]\n",
      " [-0.88457949  2.68717091  2.14141353  2.10794849  0.14753696]\n",
      " [-1.04332316 -0.77613114 -0.58901317 -0.25209374  2.32296718]\n",
      " [ 1.52664872 -0.38671857  0.42053134 -0.92677496 -0.7378012 ]\n",
      " [ 1.32146398 -0.80996439  0.05806139 -0.84432201  1.24432993]\n",
      " [ 0.36282838 -0.15595725 -0.20078919 -0.34934604 -0.79931836]\n",
      " [ 0.05443952 -0.49684891 -0.60646391  2.68483325 -0.05604001]\n",
      " [-1.0885484  -0.3229848   0.07326748 -0.77908798 -0.62698371]\n",
      " [-1.0338707   0.1046762  -0.15408098  0.41587993  0.39598755]\n",
      " [-0.13076212 -0.93259296  1.25168783  0.63736546 -0.79131934]\n",
      " [-0.5777719   0.06930163 -0.65448631 -0.53694376 -0.71481714]\n",
      " [ 0.29396973 -0.58754636  1.62884777  0.15332072 -0.83333615]\n",
      " [-1.01761951  0.24389382 -0.41465124 -0.24858247 -0.63355874]\n",
      " [-0.08282753 -0.82480601 -0.4310305   1.99168875 -0.80046595]\n",
      " [-0.53129721 -0.09568311  1.087315   -1.05564528  0.10118641]\n",
      " [-1.15822703 -0.81431346 -0.4492768  -0.39012623  0.88017468]\n",
      " [-0.82772887  1.47226266 -0.212817    1.03983088  1.55549761]\n",
      " [-1.05204972 -0.27293127  0.39488489  1.20653014 -0.10357483]\n",
      " [-0.30088362 -0.22281646 -0.53457907 -1.18101279 -0.85448338]\n",
      " [-0.28410061  0.54732511 -0.43350653  2.23534001 -0.37545072]\n",
      " [-0.57532293 -0.51233589 -0.17934339 -1.12103111 -0.63328804]\n",
      " [-0.20850009 -0.73353429 -0.43092366 -0.38986806 -0.40309366]\n",
      " [-0.74574083 -0.43437528 -0.57740188  0.55007566 -0.64435278]\n",
      " [-0.04998873 -0.10879419  1.39538573 -0.67230361  0.27872993]\n",
      " [-1.18586336 -0.3094047  -0.52303968 -0.15065997 -0.45609216]\n",
      " [ 0.71955781 -0.31043927 -0.41463507 -0.06148933 -0.37651364]]\n",
      "Mean of each column in normalized data:\n",
      " [ 1.28785871e-16 -9.10382880e-17 -1.49880108e-16 -3.47222251e-16\n",
      "  1.73194792e-16]\n",
      "Standard deviation of each column in normalized data:\n",
      " [1. 1. 1. 1. 1.]\n"
     ]
    }
   ],
   "source": [
    "# f) Now standardize the data matrix by 1) subtracting the mean off of each column, and 2) dividing each column by its standard deviation. Do this via broadcasting, and store the result in a matrix called normalized. To verify that you successfully did it, compute the mean and standard deviation of the columns of normalized and print them out.\n",
    "\n",
    "normalized = (data - mean_values) / std_values\n",
    "normalized_mean = np.mean(normalized, axis=0)\n",
    "normalized_std = np.std(normalized, axis=0)\n",
    "print(\"Normalized Data:\\n\", normalized)\n",
    "print(\"Mean of each column in normalized data:\\n\", normalized_mean)\n",
    "print(\"Standard deviation of each column in normalized data:\\n\", normalized_std)\n"
   ]
  },
  {
   "cell_type": "code",
   "execution_count": 20,
   "id": "3123bc1f-4238-4098-ae2f-e1274f2c6f09",
   "metadata": {},
   "outputs": [
    {
     "name": "stdout",
     "output_type": "stream",
     "text": [
      "Vandermonde Matrix:\n",
      " [[           1            1            1            1            1\n",
      "             1            1            1            1            1\n",
      "             1            1]\n",
      " [           1            2            4            8           16\n",
      "            32           64          128          256          512\n",
      "          1024         2048]\n",
      " [           1            3            9           27           81\n",
      "           243          729         2187         6561        19683\n",
      "         59049       177147]\n",
      " [           1            4           16           64          256\n",
      "          1024         4096        16384        65536       262144\n",
      "       1048576      4194304]\n",
      " [           1            5           25          125          625\n",
      "          3125        15625        78125       390625      1953125\n",
      "       9765625     48828125]\n",
      " [           1            6           36          216         1296\n",
      "          7776        46656       279936      1679616     10077696\n",
      "      60466176    362797056]\n",
      " [           1            7           49          343         2401\n",
      "         16807       117649       823543      5764801     40353607\n",
      "     282475249   1977326743]\n",
      " [           1            8           64          512         4096\n",
      "         32768       262144      2097152     16777216    134217728\n",
      "    1073741824   8589934592]\n",
      " [           1            9           81          729         6561\n",
      "         59049       531441      4782969     43046721    387420489\n",
      "    3486784401  31381059609]\n",
      " [           1           10          100         1000        10000\n",
      "        100000      1000000     10000000    100000000   1000000000\n",
      "   10000000000 100000000000]\n",
      " [           1           11          121         1331        14641\n",
      "        161051      1771561     19487171    214358881   2357947691\n",
      "   25937424601 285311670611]\n",
      " [           1           12          144         1728        20736\n",
      "        248832      2985984     35831808    429981696   5159780352\n",
      "   61917364224 743008370688]]\n"
     ]
    }
   ],
   "source": [
    "# 3. a)\n",
    "import numpy as np\n",
    "\n",
    "def vandermonde(N):\n",
    "    vec = np.arange(N) + 1  # Create the vector [1, 2, ..., N]\n",
    "    # Create the Vandermonde matrix using broadcasting\n",
    "    V = vec[:, np.newaxis] ** np.arange(N)  # Broadcasting\n",
    "    return V\n",
    "\n",
    "# Use the function for N = 12\n",
    "vander = vandermonde(12)\n",
    "print(\"Vandermonde Matrix:\\n\", vander)\n"
   ]
  },
  {
   "cell_type": "code",
   "execution_count": 21,
   "id": "857774ed-ce90-4fa2-a7e8-3e5b682604ba",
   "metadata": {},
   "outputs": [
    {
     "name": "stdout",
     "output_type": "stream",
     "text": [
      "Vector b:\n",
      " [1.20000000e+01 4.09500000e+03 2.65720000e+05 5.59240500e+06\n",
      " 6.10351560e+07 4.35356467e+08 2.30688120e+09 9.81706810e+09\n",
      " 3.53036921e+10 1.11111111e+11 3.13842838e+11 8.10554586e+11]\n"
     ]
    }
   ],
   "source": [
    "# b) Now, let’s make a pretend linear system problem with this matrix. Create a vector of all ones, of length 12 and call it x. Perform a matrix-vector multiplication of vander with the vector you just created and store that in a new vector and call it b.\n",
    "#Print the vector b.\n",
    "\n",
    "# Create a vector of all ones, length 12\n",
    "x = np.ones(12)\n",
    "\n",
    "# Perform matrix-vector multiplication\n",
    "b = np.dot(vander, x)\n",
    "\n",
    "# Print the resulting vector b\n",
    "print(\"Vector b:\\n\", b)\n"
   ]
  },
  {
   "cell_type": "code",
   "execution_count": 22,
   "id": "11db7555-081f-45dc-b7da-8b720d5c953e",
   "metadata": {},
   "outputs": [
    {
     "name": "stdout",
     "output_type": "stream",
     "text": [
      "Estimated x:\n",
      " [-12.26953125   5.90625     15.421875    -6.03515625   2.05859375\n",
      "   0.92675781   1.00244141   1.00010681   0.99997711   1.00000131\n",
      "   0.99999996   1.        ]\n"
     ]
    }
   ],
   "source": [
    "# c) First, solve the linear system the naïve way, pretending like you don’t know x.\n",
    "#Import numpy.linalg, invert V and multiply it by b. Print out your result. What should you get for your answer? If the answer is different than what you expected, write a sentence about that difference.\n",
    "import numpy as np\n",
    "import numpy.linalg as linalg\n",
    "\n",
    "# Solve the linear system using the naive method\n",
    "V_inv = linalg.inv(vander)  \n",
    "x_solution = np.dot(V_inv, b) \n",
    "\n",
    "# Print the resulting x_solution\n",
    "print(\"Estimated x:\\n\", x_solution)\n"
   ]
  },
  {
   "cell_type": "code",
   "execution_count": 23,
   "id": "002b3006-2aa7-4c23-81ec-00453466e102",
   "metadata": {},
   "outputs": [
    {
     "name": "stdout",
     "output_type": "stream",
     "text": [
      "Estimated x using np.linalg.solve:\n",
      " [0.98080503 1.05139768 0.94513807 1.03151945 0.98899166 1.00248816\n",
      " 0.99962407 1.0000384  0.99999737 1.00000012 1.         1.        ]\n"
     ]
    }
   ],
   "source": [
    "# d) Now, solve the same linear system using solve. Print out the result. Does it seem more or less in line with what you’d expect?\n",
    "# Solve the linear system using np.linalg.solve\n",
    "x_solution_solve = linalg.solve(vander, b)\n",
    "\n",
    "# Print the resulting x_solution from solve\n",
    "print(\"Estimated x using np.linalg.solve:\\n\", x_solution_solve)\n"
   ]
  },
  {
   "cell_type": "code",
   "execution_count": null,
   "id": "f2f3de6b-c31f-408e-94d7-2fe99a7bb0b2",
   "metadata": {},
   "outputs": [],
   "source": []
  }
 ],
 "metadata": {
  "kernelspec": {
   "display_name": "Python 3 (ipykernel)",
   "language": "python",
   "name": "python3"
  },
  "language_info": {
   "codemirror_mode": {
    "name": "ipython",
    "version": 3
   },
   "file_extension": ".py",
   "mimetype": "text/x-python",
   "name": "python",
   "nbconvert_exporter": "python",
   "pygments_lexer": "ipython3",
   "version": "3.10.6"
  }
 },
 "nbformat": 4,
 "nbformat_minor": 5
}
